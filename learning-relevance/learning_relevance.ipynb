{
 "cells": [
  {
   "cell_type": "code",
   "execution_count": 14,
   "metadata": {
    "collapsed": true,
    "deletable": true,
    "editable": true
   },
   "outputs": [],
   "source": [
    "import django, sys, os, random\n",
    "import matplotlib.pyplot as plt\n",
    "import numpy as np\n",
    "import pandas as pd\n",
    "\n",
    "sys.path.append('/home/galm/software/django/tmv/BasicBrowser/')\n",
    "os.environ.setdefault(\"DJANGO_SETTINGS_MODULE\", \"BasicBrowser.settings\")\n",
    "django.setup()\n",
    "from django.db.models import Q, F, Sum, Count, FloatField, Case, When, Value, Max\n",
    "from sklearn.manifold import TSNE\n",
    "from scoping.models import *\n",
    "\n",
    "from sklearn.svm import SVC\n",
    "from sklearn.metrics import average_precision_score\n",
    "from sklearn.metrics import precision_recall_curve\n",
    "from sklearn.metrics import precision_score, recall_score\n",
    "\n",
    "from sklearn.decomposition import NMF\n",
    "from sklearn.naive_bayes import MultinomialNB\n",
    "from sklearn.neural_network import MLPClassifier\n"
   ]
  },
  {
   "cell_type": "code",
   "execution_count": 24,
   "metadata": {
    "collapsed": true,
    "deletable": true,
    "editable": true
   },
   "outputs": [],
   "source": [
    "columns = [\n",
    "    'id',\n",
    "    'UT_id',\n",
    "    'authors',\n",
    "    'content',\n",
    "    'first_author',\n",
    "    'title',\n",
    "    'wosarticle__de',\n",
    "    'wosarticle__wc'\n",
    "]"
   ]
  },
  {
   "cell_type": "code",
   "execution_count": 20,
   "metadata": {
    "collapsed": false
   },
   "outputs": [
    {
     "data": {
      "text/plain": [
       "Index(['index', 'PY', 'UT_id', 'authors', 'citation_objects', 'content',\n",
       "       'date', 'dtype', 'duplicated', 'first_author', 'fulltext', 'id',\n",
       "       'journal_id', 'rated', 'relevant', 'scopus', 'source', 'tilength',\n",
       "       'title', 'uploaded', 'uploader_id', 'url', 'wos', 'ymentions'],\n",
       "      dtype='object')"
      ]
     },
     "execution_count": 20,
     "metadata": {},
     "output_type": "execute_result"
    }
   ],
   "source": []
  },
  {
   "cell_type": "code",
   "execution_count": null,
   "metadata": {
    "collapsed": false,
    "deletable": true,
    "editable": true
   },
   "outputs": [],
   "source": [
    "q = Query.objects.get(pk=2801)\n",
    "ratings = list(Doc.objects.filter(query=q,content__iregex='\\w').values(*columns))\n",
    "for r in ratings:\n",
    "    d = Doc.objects.get(pk=r['id'])\n",
    "    dos = DocOwnership.objects.filter(query=q,doc=d,relevant__gt=0)\n",
    "    if dos.count() == 1:\n",
    "        r['relevant'] = dos.first().relevant\n",
    "        r['rated'] = dos.first().date\n",
    "    elif dos.count() > 1:\n",
    "        if dos.filter(relevant=1).count()>0:\n",
    "            r['relevant'] = 1\n",
    "            r['rated'] = dos.first().date\n",
    "        else:\n",
    "            r['relevant'] = dos.order_by('relevant').first().relevant\n",
    "            r['rated'] = dos.first().date\n",
    "    else:\n",
    "        r['relevant'] = 8\n",
    "        r['rated'] = \"\"\n",
    "        \n",
    "df = pd.DataFrame.from_dict(ratings)\n",
    "\n",
    "df = df[df['relevant'].isin([1,2])]\n",
    "\n",
    "df['relevant'][df['relevant']==2] = 0\n",
    "\n",
    "df.head()\n"
   ]
  },
  {
   "cell_type": "code",
   "execution_count": 3,
   "metadata": {
    "collapsed": false,
    "deletable": true,
    "editable": true
   },
   "outputs": [],
   "source": [
    "df = df.reset_index()\n",
    "df.to_csv('docs.csv')"
   ]
  },
  {
   "cell_type": "code",
   "execution_count": 4,
   "metadata": {
    "collapsed": false,
    "deletable": true,
    "editable": true
   },
   "outputs": [
    {
     "name": "stdout",
     "output_type": "stream",
     "text": [
      "0\n",
      "1\n"
     ]
    },
    {
     "data": {
      "image/png": "[encoded data removed]",
      "text/plain": [
       "<matplotlib.figure.Figure at 0x7f7c6cb86128>"
      ]
     },
     "metadata": {},
     "output_type": "display_data"
    }
   ],
   "source": [
    "i = 0\n",
    "fig, axs = plt.subplots(1,2)\n",
    "\n",
    "for name, group in df.groupby('relevant'):\n",
    "    print(name)\n",
    "    bypy = group.groupby('PY').size()\n",
    "    if i==1:\n",
    "        offset=-.25\n",
    "    else:\n",
    "        offset=.25\n",
    "    axs[0].bar(bypy.index+offset,bypy,width=0.4,label=name)\n",
    "    \n",
    "    axs[0].legend()\n",
    "    axs[1].bar(i,group.size)\n",
    "    i+=1\n",
    "    \n",
    "fig.tight_layout()"
   ]
  },
  {
   "cell_type": "code",
   "execution_count": 5,
   "metadata": {
    "collapsed": false,
    "deletable": true,
    "editable": true
   },
   "outputs": [
    {
     "data": {
      "text/plain": [
       "['calculations',\n",
       " 'calculus',\n",
       " 'calibrated',\n",
       " 'calibration',\n",
       " 'california',\n",
       " 'called',\n",
       " 'calls',\n",
       " 'camera',\n",
       " 'campaign',\n",
       " 'campaigns']"
      ]
     },
     "execution_count": 5,
     "metadata": {},
     "output_type": "execute_result"
    }
   ],
   "source": [
    "import re, string\n",
    "from sklearn.linear_model import LogisticRegression\n",
    "from sklearn.feature_extraction.text import CountVectorizer, TfidfVectorizer\n",
    "\n",
    "re_tok = re.compile('([{string.punctuation}“”¨«»®´·º½¾¿¡§£₤‘’])')\n",
    "def tokenize(s): return re_tok.sub(r' \\1 ', s).split()\n",
    "\n",
    "import string\n",
    "\n",
    "from nltk import wordpunct_tokenize\n",
    "from nltk import wordpunct_tokenize\n",
    "from nltk import WordNetLemmatizer\n",
    "from nltk import sent_tokenize\n",
    "from nltk import pos_tag\n",
    "from nltk.corpus import stopwords as sw\n",
    "punct = set(string.punctuation)\n",
    "from nltk.corpus import wordnet as wn\n",
    "\n",
    "stopwords = set(sw.words('english'))\n",
    "\n",
    "def lemmatize(token, tag):\n",
    "        tag = {\n",
    "            'N': wn.NOUN,\n",
    "            'V': wn.VERB,\n",
    "            'R': wn.ADV,\n",
    "            'J': wn.ADJ\n",
    "        }.get(tag[0], wn.NOUN)\n",
    "        return WordNetLemmatizer().lemmatize(token, tag)\n",
    "\n",
    "def tokenize(X):\n",
    "    for sent in sent_tokenize(X):\n",
    "        for token, tag in pos_tag(wordpunct_tokenize(sent)):\n",
    "            token = token.lower().strip()\n",
    "            if token in stopwords:\n",
    "                continue\n",
    "            if all(char in punct for char in token):\n",
    "                continue\n",
    "            if len(token) < 2:\n",
    "                continue\n",
    "            if all(char in string.digits for char in token):\n",
    "                continue\n",
    "            lemma = lemmatize(token,tag)\n",
    "            yield lemma\n",
    "\n",
    "\n",
    "vec = TfidfVectorizer(ngram_range=(1,4),\n",
    "               min_df=3, max_df=0.8, strip_accents='unicode', use_idf=1,\n",
    "               smooth_idf=1, sublinear_tf=1,stop_words=\"english\")\n",
    "\n",
    "data_term_doc = vec.fit_transform(df['content'])\n",
    "\n",
    "vocab = vec.get_feature_names()\n",
    "vocab[1055:1065]"
   ]
  },
  {
   "cell_type": "code",
   "execution_count": 6,
   "metadata": {
    "collapsed": false,
    "deletable": true,
    "editable": true
   },
   "outputs": [
    {
     "data": {
      "image/png": "[encoded data removed]",
      "text/plain": [
       "<matplotlib.figure.Figure at 0x7f7c6bc48400>"
      ]
     },
     "metadata": {},
     "output_type": "display_data"
    }
   ],
   "source": [
    "train = df.sample(frac=0.5)\n",
    "test = df[~df['id'].isin(train['id'])]\n",
    "\n",
    "tfidf_train = data_term_doc[train.index,:]\n",
    "tfidf_test = data_term_doc[test.index,:]\n",
    "\n",
    "y_train = np.array(train['relevant'])\n",
    "y_test = np.array(test['relevant'])\n",
    "\n",
    "y = np.array(df['relevant'])\n",
    "\n",
    "i = 0\n",
    "fig, axs = plt.subplots(1,2,sharey=True)\n",
    "\n",
    "for name, group in train.groupby('relevant'): \n",
    "    axs[0].bar(i,group['id'].size)\n",
    "    i+=1\n",
    "i=0\n",
    "for name, group in test.groupby('relevant'): \n",
    "    axs[1].bar(i,group['id'].size)\n",
    "    i+=1\n",
    "    \n",
    "fig.tight_layout()\n"
   ]
  },
  {
   "cell_type": "code",
   "execution_count": null,
   "metadata": {
    "collapsed": true,
    "deletable": true,
    "editable": true
   },
   "outputs": [],
   "source": []
  },
  {
   "cell_type": "code",
   "execution_count": null,
   "metadata": {
    "collapsed": false,
    "deletable": true,
    "editable": true
   },
   "outputs": [],
   "source": []
  },
  {
   "cell_type": "code",
   "execution_count": 16,
   "metadata": {
    "collapsed": false,
    "deletable": true,
    "editable": true
   },
   "outputs": [],
   "source": [
    "def plot_model_accuracy(model,x_test,y_test,ax,threshold=0.1,inv=False):\n",
    "    y_prob = model.predict_proba(x_test)\n",
    "    prob_y_true = y_prob[:,1]\n",
    "    prob_y_false = y_prob[:,0]\n",
    "    order = np.argsort(prob_y_true)\n",
    "    ordered_prob = prob_y_true[order]\n",
    "    prob_y_false = prob_y_false[order]\n",
    "    cutoff = np.argmax(ordered_prob>threshold)\n",
    "\n",
    "    y_predicted = np.where(prob_y_true > threshold,1,0)\n",
    "\n",
    "    from sklearn.metrics import precision_score, recall_score\n",
    "    p = precision_score(y_test,y_predicted)\n",
    "    r = recall_score(y_test,y_predicted)\n",
    "\n",
    "    savings = len(y_predicted[y_predicted < threshold])\n",
    "    \n",
    "    score=model.score(x_test,y_test)\n",
    "\n",
    "    #print(\"avoided checking {} out of {} documents\".format(savings,len(y_predicted)))\n",
    "\n",
    "    #print(\"precision = {}\".format(p))\n",
    "    #print(\"recall = {}\".format(r))\n",
    "\n",
    "    ax.scatter(\n",
    "        np.arange(len(prob_y_true)),\n",
    "        prob_y_true[order],\n",
    "        s=2\n",
    "    )\n",
    "    ax.scatter(\n",
    "        np.arange(len(prob_y_true)),\n",
    "        y_test[order],\n",
    "        s=2\n",
    "    )\n",
    "    if inv:\n",
    "        ax.scatter(\n",
    "            np.arange(len(prob_y_true)),\n",
    "            prob_y_false,\n",
    "            s=2          \n",
    "        )\n",
    "    ax.set_title(\"avoided={:0.2f}\\nprecision={:0.2f}\\nrecall={:0.2f}\\nscore={:0.2f}\".format(\n",
    "        savings/len(y_predicted),\n",
    "        p,r,\n",
    "        score\n",
    "    ))\n",
    "    ax.axvline(cutoff)"
   ]
  },
  {
   "cell_type": "code",
   "execution_count": 8,
   "metadata": {
    "collapsed": false,
    "deletable": true,
    "editable": true
   },
   "outputs": [
    {
     "data": {
      "image/png": "[encoded data removed]",
      "text/plain": [
       "<matplotlib.figure.Figure at 0x7f7c65b8f080>"
      ]
     },
     "metadata": {},
     "output_type": "display_data"
    }
   ],
   "source": [
    "fig, ax = plt.subplots()\n",
    "\n",
    "clf = SVC(kernel='rbf',probability=True)\n",
    "\n",
    "clf.fit(tfidf_train,y_train)\n",
    "\n",
    "plot_model_accuracy(clf,tfidf_test,y_test,ax,0.05)"
   ]
  },
  {
   "cell_type": "code",
   "execution_count": 9,
   "metadata": {
    "collapsed": false,
    "deletable": true,
    "editable": true
   },
   "outputs": [
    {
     "data": {
      "text/plain": [
       "SVC(C=1.0, cache_size=200, class_weight=None, coef0=0.0,\n",
       "  decision_function_shape='ovr', degree=3, gamma='auto', kernel='rbf',\n",
       "  max_iter=-1, probability=True, random_state=None, shrinking=True,\n",
       "  tol=0.001, verbose=False)"
      ]
     },
     "execution_count": 9,
     "metadata": {},
     "output_type": "execute_result"
    }
   ],
   "source": [
    "from sklearn.decomposition import NMF\n",
    "nmf = NMF(n_components=50,random_state=1,\n",
    "          alpha=.1, l1_ratio=.5)\n",
    "\n",
    "W = nmf.fit_transform(data_term_doc)\n",
    "\n",
    "## SVM classifier\n",
    "\n",
    "clf = SVC(kernel='rbf',probability=True)\n",
    "\n",
    "clf.fit(W[train.index,:],y_train)\n",
    "\n",
    "\n"
   ]
  },
  {
   "cell_type": "code",
   "execution_count": 10,
   "metadata": {
    "collapsed": false,
    "deletable": true,
    "editable": true
   },
   "outputs": [
    {
     "data": {
      "image/png": "[encoded data removed]",
      "text/plain": [
       "<matplotlib.figure.Figure at 0x7f7c6b33c6d8>"
      ]
     },
     "metadata": {},
     "output_type": "display_data"
    }
   ],
   "source": [
    "fig, ax = plt.subplots()\n",
    "plot_model_accuracy(clf,W[test.index,:],y_test,ax,0.05)"
   ]
  },
  {
   "cell_type": "code",
   "execution_count": 11,
   "metadata": {
    "collapsed": false,
    "deletable": true,
    "editable": true
   },
   "outputs": [
    {
     "name": "stdout",
     "output_type": "stream",
     "text": [
      "0.1\n",
      "0.2\n",
      "0.30000000000000004\n",
      "0.4\n",
      "0.5\n",
      "0.6000000000000001\n",
      "0.7000000000000001\n",
      "0.8\n",
      "0.9\n"
     ]
    },
    {
     "data": {
      "image/png": "[encoded data removed]",
      "text/plain": [
       "<matplotlib.figure.Figure at 0x7f7c65cfa6d8>"
      ]
     },
     "metadata": {},
     "output_type": "display_data"
    }
   ],
   "source": [
    "fig = plt.figure(figsize=(8,8))\n",
    "\n",
    "for i in range(1,10):\n",
    "    frac = i*0.1\n",
    "    print(frac)\n",
    "    train = df.sample(frac=frac)\n",
    "    test = df[~df['id'].isin(train['id'])]\n",
    "    y_train = np.array(train['relevant'])\n",
    "    y_test = np.array(test['relevant'])\n",
    "    \n",
    "    clf = SVC(kernel='rbf',probability=True)\n",
    "    clf.fit(data_term_doc[train.index,:],y_train)\n",
    "    \n",
    "    ax = fig.add_subplot(3,3,i)\n",
    "    \n",
    "    plot_model_accuracy(clf,data_term_doc[test.index,:],y_test,ax,0.05)\n",
    "    \n",
    "    #estimate\n",
    "    #plot precision and recall\n",
    "fig.tight_layout()\n",
    "plt.show()"
   ]
  },
  {
   "cell_type": "code",
   "execution_count": null,
   "metadata": {
    "collapsed": false,
    "deletable": true,
    "editable": true
   },
   "outputs": [],
   "source": []
  },
  {
   "cell_type": "code",
   "execution_count": null,
   "metadata": {
    "collapsed": false,
    "deletable": true,
    "editable": true
   },
   "outputs": [],
   "source": []
  },
  {
   "cell_type": "code",
   "execution_count": 12,
   "metadata": {
    "collapsed": false,
    "deletable": true,
    "editable": true
   },
   "outputs": [],
   "source": [
    "def precision_recall_plot(model,x_test,y_test, ax, frac):\n",
    "    try:\n",
    "        y_score = model.decision_function(x_test)\n",
    "    except:\n",
    "        y_score = model.predict_proba(x_test)[:,1]\n",
    "    average_precision = average_precision_score(y_test, y_score)\n",
    "\n",
    "    print('Average precision-recall score: {0:0.2f}'.format(\n",
    "          average_precision))\n",
    "\n",
    "    precision, recall, _ = precision_recall_curve(y_test, y_score)\n",
    "\n",
    "    ax.step(recall, precision, color='b', alpha=0.2,\n",
    "             where='post')\n",
    "    ax.fill_between(recall, precision, step='post', alpha=0.2,\n",
    "                     color='b')\n",
    "\n",
    "    ax.set_xlabel('Recall')\n",
    "    ax.set_ylabel('Precision')\n",
    "    ax.set_ylim([0.0, 1.05])\n",
    "    ax.set_xlim([0.0, 1.0])\n",
    "    ax.set_title('frac={0:0.2f}\\nAP={1:0.2f}'.format(\n",
    "        frac,average_precision\n",
    "    ))\n",
    "    "
   ]
  },
  {
   "cell_type": "code",
   "execution_count": 17,
   "metadata": {
    "collapsed": false,
    "deletable": true,
    "editable": true
   },
   "outputs": [
    {
     "name": "stdout",
     "output_type": "stream",
     "text": [
      "0.2\n",
      "Average precision-recall score: 0.68\n",
      "Average precision-recall score: 0.63\n",
      "Average precision-recall score: 0.49\n",
      "Average precision-recall score: 0.58\n",
      "0.4\n",
      "Average precision-recall score: 0.70\n",
      "Average precision-recall score: 0.67\n",
      "Average precision-recall score: 0.62\n",
      "Average precision-recall score: 0.67\n",
      "0.6000000000000001\n",
      "Average precision-recall score: 0.71\n",
      "Average precision-recall score: 0.66\n",
      "Average precision-recall score: 0.56\n",
      "Average precision-recall score: 0.64\n",
      "0.8\n",
      "Average precision-recall score: 0.86\n",
      "Average precision-recall score: 0.85\n",
      "Average precision-recall score: 0.64\n",
      "Average precision-recall score: 0.72\n"
     ]
    },
    {
     "data": {
      "image/png": "[encoded data removed]",
      "text/plain": [
       "<matplotlib.figure.Figure at 0x7f7c61922cc0>"
      ]
     },
     "metadata": {},
     "output_type": "display_data"
    }
   ],
   "source": [
    "vec = TfidfVectorizer(\n",
    "    ngram_range=(1,3),\n",
    "    min_df=3, max_df=0.9, strip_accents='unicode', \n",
    "    use_idf=1,\n",
    "    smooth_idf=1, sublinear_tf=1,stop_words=\"english\",tokenizer=tokenize\n",
    ")\n",
    "\n",
    "X = vec.fit_transform(df['content'])\n",
    "y = np.array(df['relevant'])\n",
    "fig, axs = plt.subplots(8,4,figsize=(8,16))\n",
    "\n",
    "\n",
    "\n",
    "vec = TfidfVectorizer(\n",
    "    ngram_range=(1,1),\n",
    "    min_df=3, max_df=0.9, strip_accents='unicode', \n",
    "    use_idf=1, tokenizer=tokenize,\n",
    "    smooth_idf=1, sublinear_tf=1,stop_words=\"english\"\n",
    ")\n",
    "\n",
    "data_term_doc = vec.fit_transform(df['content'])\n",
    "nmf = NMF(n_components=75,random_state=1,\n",
    "          alpha=.01, l1_ratio=.5)\n",
    "\n",
    "W = nmf.fit_transform(data_term_doc)\n",
    "\n",
    "cvec = CountVectorizer(\n",
    "    ngram_range=(1,1),\n",
    "    min_df=3, max_df=0.9, \n",
    "    strip_accents='unicode',\n",
    "    stop_words=\"english\",\n",
    "    tokenizer=tokenize\n",
    ")\n",
    "\n",
    "cX = cvec.fit_transform(df['content'])\n",
    "\n",
    "for i in range(1,5):\n",
    "    frac = i*0.2\n",
    "    print(frac)\n",
    "    train = df.sample(frac=frac)\n",
    "    test = df[~df['id'].isin(train['id'])]\n",
    "    \n",
    "    \n",
    "    \n",
    "    clf = SVC(kernel='rbf',probability=True)\n",
    "    clf.fit(X[train.index,:],y[train.index])\n",
    "    \n",
    "    ax = axs[(i-1)*2,0]\n",
    "    \n",
    "    precision_recall_plot(clf,X[test.index],y[test.index],ax,frac)\n",
    "    \n",
    "    ax = axs[(i-1)*2+1,0]\n",
    "    plot_model_accuracy(clf,X[test.index],y[test.index],ax,0.05)\n",
    "    \n",
    "    clf = SVC(kernel='rbf',probability=True)\n",
    "    clf.fit(W[train.index,:],y[train.index])\n",
    "    \n",
    "    ax = axs[(i-1)*2,1]\n",
    "    \n",
    "    precision_recall_plot(clf,W[test.index],y[test.index],ax,frac)\n",
    "    \n",
    "    ax = axs[(i-1)*2+1,1]\n",
    "    plot_model_accuracy(clf,W[test.index],y[test.index],ax,0.05)\n",
    "    \n",
    "    \n",
    "    clf = MultinomialNB(alpha=1)\n",
    "    clf.fit(cX[train.index],y[train.index])\n",
    "    \n",
    "    ax = axs[(i-1)*2,2]  \n",
    "    precision_recall_plot(clf,cX[test.index],y[test.index],ax,frac)\n",
    "    \n",
    "    ax = axs[(i-1)*2+1,2]\n",
    "    plot_model_accuracy(clf,cX[test.index],y[test.index],ax,0.05)\n",
    "    \n",
    "    ### Neural Network\n",
    "    clf = MLPClassifier(\n",
    "        solver='lbfgs', \n",
    "        alpha=1e-5,\n",
    "        hidden_layer_sizes=(10), \n",
    "        random_state=1\n",
    "    )    \n",
    "    clf.fit(cX[train.index],y[train.index])\n",
    "    \n",
    "    ax = axs[(i-1)*2,3]  \n",
    "    precision_recall_plot(clf,cX[test.index],y[test.index],ax,frac)\n",
    "    \n",
    "    ax = axs[(i-1)*2+1,3]\n",
    "    plot_model_accuracy(clf,cX[test.index],y[test.index],ax,0.05)\n",
    "    \n",
    "    #plot_model_accuracy(clf,y[test.index,y_test,ax,0.1)\n",
    "    \n",
    "    #estimate\n",
    "    #plot precision and recall\n",
    "fig.tight_layout()\n",
    "plt.show()"
   ]
  },
  {
   "cell_type": "code",
   "execution_count": null,
   "metadata": {
    "collapsed": false,
    "deletable": true,
    "editable": true
   },
   "outputs": [],
   "source": [
    "vec = CountVectorizer(ngram_range=(1,1),\n",
    "               min_df=3, max_df=0.9, strip_accents='unicode',\n",
    "               stop_words=\"english\",tokenizer=tokenize)\n",
    "\n",
    "X = vec.fit_transform(df['content'])\n",
    "\n",
    "model = MultinomialNB(alpha=1)\n",
    "model.fit(X[train.index],y[train.index])\n",
    "\n",
    "fig, ax = plt.subplots()\n",
    "\n",
    "plot_model_accuracy(model,X[test.index],y[test.index],ax,0.05)"
   ]
  },
  {
   "cell_type": "code",
   "execution_count": null,
   "metadata": {
    "collapsed": false,
    "deletable": true,
    "editable": true
   },
   "outputs": [],
   "source": [
    "fig, ax = plt.subplots()\n",
    "\n",
    "plot_model_accuracy(model,X[test.index],y[test.index],ax,0.05)"
   ]
  },
  {
   "cell_type": "code",
   "execution_count": null,
   "metadata": {
    "collapsed": false,
    "deletable": true,
    "editable": true
   },
   "outputs": [],
   "source": []
  },
  {
   "cell_type": "code",
   "execution_count": null,
   "metadata": {
    "collapsed": false,
    "deletable": true,
    "editable": true
   },
   "outputs": [],
   "source": [
    "from sklearn.discriminant_analysis import QuadraticDiscriminantAnalysis as QDA\n",
    "from sklearn.discriminant_analysis import LinearDiscriminantAnalysis as LDA\n",
    "\n",
    "\n",
    "\n",
    "vec = TfidfVectorizer(ngram_range=(1,1),\n",
    "               min_df=3, max_df=0.9, strip_accents='unicode',\n",
    "               stop_words=\"english\",tokenizer=tokenize)\n",
    "\n",
    "X = vec.fit_transform(df['content']).toarray()\n",
    "\n",
    "model = LDA()\n",
    "model.fit(X[train.index],y[train.index])\n",
    "\n",
    "fig, ax = plt.subplots()\n",
    "\n",
    "plot_model_accuracy(model,X[test.index],y[test.index],ax,0.05)"
   ]
  },
  {
   "cell_type": "code",
   "execution_count": null,
   "metadata": {
    "collapsed": false,
    "deletable": true,
    "editable": true
   },
   "outputs": [],
   "source": [
    "y_prob = model.predict_proba(X[test.index])[:,1]\n",
    "y_real = y[test.index]\n",
    "\n",
    "for i, prob in enumerate(y_prob):\n",
    "    r = y_real[i]\n",
    "    ind = test.index[i]\n",
    "    if prob < 0.05 and r==1:\n",
    "        d = df.loc[ind]\n",
    "        print('\\n################\\n')\n",
    "        print('probability: {}'.format(prob))\n",
    "        print(d['content'])\n",
    "\n"
   ]
  },
  {
   "cell_type": "code",
   "execution_count": null,
   "metadata": {
    "collapsed": false,
    "deletable": true,
    "editable": true
   },
   "outputs": [],
   "source": [
    "vec = TfidfVectorizer(ngram_range=(1,1),\n",
    "               min_df=3, max_df=0.9, strip_accents='unicode',\n",
    "               stop_words=\"english\",tokenizer=tokenize)\n",
    "\n",
    "X = vec.fit_transform(df['content']).toarray()\n",
    "\n",
    "nmf = NMF(n_components=75,random_state=1,\n",
    "          alpha=.01, l1_ratio=.5)\n",
    "\n",
    "W = nmf.fit_transform(data_term_doc)\n",
    "\n",
    "\n"
   ]
  },
  {
   "cell_type": "code",
   "execution_count": null,
   "metadata": {
    "collapsed": true,
    "deletable": true,
    "editable": true
   },
   "outputs": [],
   "source": [
    "from sklearn.manifold import TSNE\n",
    "\n",
    "tsne = TSNE(n_components=2, verbose=0, perplexity=50)\n",
    "ts_X = tsne.fit_transform(X)"
   ]
  },
  {
   "cell_type": "code",
   "execution_count": null,
   "metadata": {
    "collapsed": false,
    "deletable": true,
    "editable": true
   },
   "outputs": [],
   "source": [
    "fig = plt.figure(dpi=160)\n",
    "colors = [\"blue\" if v==0 else \"red\" for v in y]\n",
    "plt.scatter(ts_X[:,0],ts_X[:,1],c=colors,s=8)"
   ]
  },
  {
   "cell_type": "code",
   "execution_count": null,
   "metadata": {
    "collapsed": false,
    "deletable": true,
    "editable": true
   },
   "outputs": [],
   "source": [
    "model = MultinomialNB(alpha=1)\n",
    "model.fit(X[train.index],y[train.index])\n",
    "y_prob = model.predict_proba(X[test.index])[:,1]\n",
    "colors = [\"blue\" if v<0.05 else \"red\" for v in y_prob]\n",
    "plt.scatter(ts_X[test.index,0],ts_X[test.index,1],c=colors,s=8)"
   ]
  },
  {
   "cell_type": "code",
   "execution_count": null,
   "metadata": {
    "collapsed": false,
    "deletable": true,
    "editable": true
   },
   "outputs": [],
   "source": [
    "model = MultinomialNB(alpha=1)\n",
    "model.fit(X[train.index],y[train.index])\n",
    "y_prob = model.predict_proba(X[test.index])[:,1]\n",
    "true_colors = [\"blue\" if v<0.05 else \"red\" for v in y_prob]\n",
    "\n",
    "fig, axs = plt.subplots(1,2,dpi=150)\n",
    "\n",
    "ax = axs[0]\n",
    "ax.set_title(\"Estimated\")\n",
    "\n",
    "ax.scatter(ts_X[test.index,0],ts_X[test.index,1],c=true_colors,s=8)\n",
    "\n",
    "ax = axs[1]\n",
    "\n",
    "ax.set_title(\"True\")\n",
    "         \n",
    "\n",
    "y_test = y[test.index]\n",
    "colors = [\"blue\" if v==0 else \"red\" for v in y_test]\n",
    "ax.scatter(\n",
    "    ts_X[test.index,0],\n",
    "    ts_X[test.index,1],\n",
    "    c=colors,\n",
    "    s=8,\n",
    "    edgecolors=true_colors\n",
    ")\n"
   ]
  },
  {
   "cell_type": "markdown",
   "metadata": {
    "collapsed": false,
    "deletable": true,
    "editable": true
   },
   "source": [
    "perhaps we need a meta-level, where we run simulations on different queries, with different sized samples, predicting the precision and recall of given model as a function of:\n",
    "- some characteristics of the dataset, text variations, relevant rarity etc.\n",
    "- the size, absolute and proportional of the sample.\n",
    "\n",
    "This way we can estimate the chance of reaching the required levell of precision and recall as the user rates documents"
   ]
  },
  {
   "cell_type": "markdown",
   "metadata": {
    "deletable": true,
    "editable": true
   },
   "source": [
    "to do, below.\n",
    "- run a simulation of the evaluation process - first with test data, then splitting sample into train and test. When can we stop, with what chance of what precision and recall?\n",
    "- Try different strategies for allocating docs: in order they were really done, most relevant first, get to x% then remaining ones above threshold, boundary docs.\n"
   ]
  },
  {
   "cell_type": "code",
   "execution_count": null,
   "metadata": {
    "collapsed": false,
    "deletable": true,
    "editable": true
   },
   "outputs": [],
   "source": [
    "\n"
   ]
  },
  {
   "cell_type": "code",
   "execution_count": null,
   "metadata": {
    "collapsed": false,
    "deletable": true,
    "editable": true
   },
   "outputs": [],
   "source": [
    "vec = CountVectorizer(ngram_range=(1,1),\n",
    "               min_df=3, max_df=0.9, strip_accents='unicode',\n",
    "               stop_words=\"english\",tokenizer=tokenize)\n",
    "\n",
    "X = vec.fit_transform(df['content']).toarray()\n",
    "model = MultinomialNB(alpha=1)\n",
    "model.fit(X[train.index],y[train.index])\n",
    "\n"
   ]
  },
  {
   "cell_type": "code",
   "execution_count": null,
   "metadata": {
    "collapsed": false,
    "deletable": true,
    "editable": true
   },
   "outputs": [],
   "source": [
    "fig, axs = plt.subplots(dpi=150)\n",
    "\n",
    "model = MultinomialNB(alpha=1)\n",
    "model = SVC(kernel='rbf',probability=True)\n",
    "train = df.sample(frac=0)\n",
    "partial = False\n",
    "total_recall_1 = False\n",
    "for i in range(120):\n",
    "\n",
    "    s = i*10\n",
    "    s_docs = list(range(s,s+10))\n",
    "    sort_docs = df.sort_values('rated').copy().reset_index()\n",
    "    if i > 0:\n",
    "        s_docs = range(0,10)\n",
    "        sort_docs = test.sort_values(\n",
    "            'prob',ascending=False\n",
    "        ).copy().reset_index(drop=True)\n",
    "        #sort_docs = test.copy().reset_index(drop=True)\n",
    "    #get train and test\n",
    "    new_docs = sort_docs.loc[sort_docs.index.intersection(s_docs),:]\n",
    "    \n",
    "    #train = pd.concat([train,new_docs])\n",
    "    train = df[df['id'].isin(list(train['id'])+list(new_docs['id']))]\n",
    "    test = df[~df['id'].isin(train['id'])].copy()\n",
    "    \n",
    "    if test.index.size ==0:\n",
    "        break\n",
    "    if partial:\n",
    "        model.partial_fit(\n",
    "            X[train.index],\n",
    "            y[train.index],\n",
    "            classes=np.array([0,1])\n",
    "        )\n",
    "    else:\n",
    "        model.fit(\n",
    "            X[train.index],\n",
    "            y[train.index]\n",
    "        )\n",
    "    \n",
    "    y_prob = model.predict_proba(X[test.index])[:,1]\n",
    "    y_predicted = np.where(y_prob > 0.05,1,0)\n",
    "    y_test = y[test.index]\n",
    "    \n",
    "    test['prob'] = y_prob\n",
    "    \n",
    "    p = precision_score(y_test,y_predicted)\n",
    "    r = recall_score(y_test,y_predicted)\n",
    "    \n",
    "    ys_seen = len(np.where(y[train.index] == 1)[0])\n",
    "    total_ys = len(np.where(y == 1)[0])\n",
    "    \n",
    "    ys_predicted = len(np.where(y_predicted==1)[0])\n",
    "    \n",
    "    truefalse = zip(y_test,y_predicted)\n",
    "    true_ys = np.array([1 if a==1 and b==1 else 0 for (a,b) in truefalse])\n",
    "    n_true_ys = len(np.where(true_ys==1)[0])\n",
    "    \n",
    "    ns_seen = len(np.where(y[train.index] == 0)[0])\n",
    "    total_ns = len(np.where(y == 0)[0])\n",
    "    \n",
    "    true_ns = np.array([1 if a==0 and b==0 else 0 for (a,b) in truefalse])\n",
    "    n_true_ns = len(np.where(true_ns==1)[0])\n",
    "\n",
    "    \n",
    "    total_recall = (ys_seen+n_true_ys)/total_ys\n",
    "    total_precision = (ns_seen+n_true_ns)/total_ns\n",
    "\n",
    "    if total_recall==1 and total_precision==1 and total_recall_1 is False:\n",
    "        plt.text(\n",
    "            0,0.8,\n",
    "            \"Total recall after \\n{} / {}documents\".format(\n",
    "                train.index.size,df.index.size\n",
    "            )\n",
    "        )\n",
    "        total_recall_1=True\n",
    "    \n",
    "    plt.scatter(i,p,c=\"blue\",s=5)\n",
    "    plt.scatter(i,r,c=\"red\",s=5)\n",
    "    plt.scatter(i+0.2,total_recall,c=\"green\",s=5)\n",
    "    plt.scatter(i,total_precision,c=\"orange\",s=5)\n"
   ]
  },
  {
   "cell_type": "code",
   "execution_count": null,
   "metadata": {
    "collapsed": false,
    "deletable": true,
    "editable": true
   },
   "outputs": [],
   "source": []
  },
  {
   "cell_type": "code",
   "execution_count": null,
   "metadata": {
    "collapsed": false,
    "deletable": true,
    "editable": true
   },
   "outputs": [],
   "source": []
  },
  {
   "cell_type": "code",
   "execution_count": null,
   "metadata": {
    "collapsed": false,
    "deletable": true,
    "editable": true
   },
   "outputs": [],
   "source": [
    "model = MultinomialNB(alpha=1)\n",
    "train = df.sample(frac=0)\n",
    "for i in range(1000):\n",
    "    s = i*10\n",
    "    s_docs = list(range(s,s+10))\n",
    "    sort_docs = df.sort_values('rated')\n",
    "    #get train and test\n",
    "    new_docs = sort_docs.loc[sort_docs.index.intersection(s_docs),:]\n",
    "    \n",
    "    train = pd.concat([train,new_docs])\n",
    "    test = df[~df['id'].isin(train['id'])].copy()\n",
    "    if test.index.size ==0:\n",
    "        break\n",
    "    \n",
    "    model.fit(\n",
    "        X[train.index],\n",
    "        y[train.index]\n",
    "    )\n",
    "    \n",
    "    y_prob = model.predict_proba(X[test.index])[:,1]\n",
    "    y_predicted = np.where(y_prob > 0.05,1,0)\n",
    "    y_test = y[test.index]\n",
    "    \n",
    "    p = precision_score(y_test,y_predicted)\n",
    "    r = recall_score(y_test,y_predicted)\n",
    "    \n",
    "    ys_seen = len(np.where(y[train.index] == 1)[0])\n",
    "    total_ys = len(np.where(y == 1)[0])\n",
    "    ys_predicted = len(np.where(y_predicted==1)[0])\n",
    "    \n",
    "    total_recall = (ys_seen+ys_predicted)/total_ys\n",
    "    \n",
    "    plt.scatter(i,p,c=\"blue\",s=5)\n",
    "    plt.scatter(i,r,c=\"red\",s=5)\n",
    "    plt.scatter(i,total_recall,c=\"green\",s=5)\n"
   ]
  },
  {
   "cell_type": "code",
   "execution_count": null,
   "metadata": {
    "collapsed": false,
    "deletable": true,
    "editable": true
   },
   "outputs": [],
   "source": [
    "true_ys"
   ]
  }
 ],
 "metadata": {
  "kernelspec": {
   "display_name": "tmvenv",
   "language": "python",
   "name": "tmvenv"
  },
  "language_info": {
   "codemirror_mode": {
    "name": "ipython",
    "version": 3
   },
   "file_extension": ".py",
   "mimetype": "text/x-python",
   "name": "python",
   "nbconvert_exporter": "python",
   "pygments_lexer": "ipython3",
   "version": "3.4.3"
  }
 },
 "nbformat": 4,
 "nbformat_minor": 2
}
